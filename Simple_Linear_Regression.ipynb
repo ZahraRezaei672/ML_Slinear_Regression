{
 "cells": [
  {
   "cell_type": "code",
   "execution_count": 81,
   "id": "b9e0a7fa-b1ce-4851-81d0-f50d8aedea62",
   "metadata": {},
   "outputs": [],
   "source": [
    "import numpy as np\n",
    "import pandas as pd\n",
    "import matplotlib.pyplot as plt"
   ]
  },
  {
   "cell_type": "code",
   "execution_count": 82,
   "id": "6fae965c-032a-4398-875f-22b31c3ad98c",
   "metadata": {},
   "outputs": [],
   "source": [
    "def S_L_Regression (x,y):\n",
    "    m = np.mean(x)\n",
    "    n = np.mean(y)\n",
    "    v = 0\n",
    "    d = 0\n",
    "    for i in range(5):\n",
    "       v += (x[i]-m)*(y[i]-n)\n",
    "       d += (x[i]-m)**2\n",
    "        \n",
    "    angle = round(v/d , 4 )      # v/d = 1.2000000000000002 / 17.2 = 0.0698\n",
    "    c = n-angle*m\n",
    "    \n",
    "    return angle , c    "
   ]
  },
  {
   "cell_type": "code",
   "execution_count": 83,
   "id": "4a34cbf1-0b9f-4513-b058-55ff07291135",
   "metadata": {},
   "outputs": [
    {
     "name": "stdout",
     "output_type": "stream",
     "text": [
      "The optimal value teta : 0.0698\n",
      "The optimal value c : 3.0695\n",
      "\n",
      "So : y = 0.0698 x + 3.0695\n"
     ]
    }
   ],
   "source": [
    "np.random.seed(100)\n",
    "x = np.random.randint(1,10,5)      # x = [9 9 4 8 8]\n",
    "y = np.random.randint(1,10,5)      # y = [1 5 3 6 3]\n",
    "teta , c = S_L_Regression(x,y)\n",
    "print(f'The optimal value teta : {teta}\\nThe optimal value c : {round(c,4)}\\n\\nSo : y = {teta} x + {round(c,4)}')\n",
    "\n",
    "    \n"
   ]
  },
  {
   "cell_type": "code",
   "execution_count": null,
   "id": "5d18d58f-0027-414b-9098-9efaa8f8f642",
   "metadata": {},
   "outputs": [],
   "source": []
  }
 ],
 "metadata": {
  "kernelspec": {
   "display_name": "Python 3 (ipykernel)",
   "language": "python",
   "name": "python3"
  },
  "language_info": {
   "codemirror_mode": {
    "name": "ipython",
    "version": 3
   },
   "file_extension": ".py",
   "mimetype": "text/x-python",
   "name": "python",
   "nbconvert_exporter": "python",
   "pygments_lexer": "ipython3",
   "version": "3.11.4"
  }
 },
 "nbformat": 4,
 "nbformat_minor": 5
}
